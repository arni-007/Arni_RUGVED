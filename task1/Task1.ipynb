{
 "cells": [
  {
   "cell_type": "code",
   "execution_count": 1,
   "id": "d021d7d8",
   "metadata": {},
   "outputs": [
    {
     "name": "stdout",
     "output_type": "stream",
     "text": [
      "False\n"
     ]
    }
   ],
   "source": [
    "#1. Define a function named “triple_and” that takes three parameters and returns True only if they are all True an False otherwise\n",
    "\n",
    "def triple_and(a, b, c):\n",
    "    return a and b and c\n",
    "\n",
    "a = input(\"Enter first value (True/False): \") == \"True\"\n",
    "b = input(\"Enter second value (True/False): \") == \"True\"\n",
    "c = input(\"Enter third value (True/False): \") == \"True\"\n",
    "\n",
    "print(triple_and(a, b, c))"
   ]
  },
  {
   "cell_type": "code",
   "execution_count": 4,
   "id": "48222ed4",
   "metadata": {},
   "outputs": [
    {
     "name": "stdout",
     "output_type": "stream",
     "text": [
      "a : 2\n",
      "b : 1\n",
      "h : 1\n",
      "i : 1\n",
      "n : 1\n",
      "v : 1\n"
     ]
    },
    {
     "data": {
      "text/plain": [
       "\"['a', 'b', 'h', 'i', 'n', 'v']\""
      ]
     },
     "execution_count": 4,
     "metadata": {},
     "output_type": "execute_result"
    }
   ],
   "source": [
    "#2. Write a python program to sort a string alphabetically and print the count of each character.\n",
    "\n",
    "string=input(\"Enter the string:\")\n",
    "\n",
    "for i in sorted(set(string)):\n",
    "    print(i,\":\", string.count(i))\n",
    "\n",
    "nstring=str(sorted(set(string)))\n",
    "\n",
    "nstring"
   ]
  },
  {
   "cell_type": "code",
   "execution_count": 5,
   "id": "cafed9b6",
   "metadata": {},
   "outputs": [
    {
     "name": "stdout",
     "output_type": "stream",
     "text": [
      "    *\n",
      "   ***\n",
      "  *****\n",
      " *******\n",
      "*********\n",
      " *******\n",
      "  *****\n",
      "   ***\n",
      "    *\n"
     ]
    }
   ],
   "source": [
    "#pattern 1\n",
    "\n",
    "n = int(input(\"Enter the number of rows: \"))\n",
    "\n",
    "for i in range(1, n+1):\n",
    "    print(\" \" * (n-i) + \"*\" * (2*i-1))\n",
    "\n",
    "for i in range(n-1, 0, -1):\n",
    "    print(\" \" * (n-i) + \"*\" * (2*i-1))"
   ]
  },
  {
   "cell_type": "code",
   "execution_count": 6,
   "id": "32f07d18",
   "metadata": {},
   "outputs": [
    {
     "name": "stdout",
     "output_type": "stream",
     "text": [
      "Sorted String: aabhinv\n"
     ]
    }
   ],
   "source": [
    "#4. Write a python function to perform selection sort on a given string.\n",
    "\n",
    "def selection_sort_string(s):\n",
    "    char_list = list(s)\n",
    "    for i in range(len(char_list)):\n",
    "        min_index = i\n",
    "        for j in range(i + 1, len(char_list)):\n",
    "            if char_list[j] < char_list[min_index]:\n",
    "                min_index = j\n",
    "        char_list[i], char_list[min_index] = char_list[min_index], char_list[i]\n",
    "    sorted_str = ''.join(char_list)\n",
    "    return sorted_str\n",
    "\n",
    "text = input(\"Enter a string: \")\n",
    "sorted_text = selection_sort_string(text)\n",
    "print(\"Sorted String:\", sorted_text)"
   ]
  },
  {
   "cell_type": "code",
   "execution_count": 7,
   "id": "35842f75",
   "metadata": {},
   "outputs": [
    {
     "name": "stdout",
     "output_type": "stream",
     "text": [
      "Sorted String: aabhinv\n",
      "\n",
      "Character Counts:\n",
      "a : 2\n",
      "b : 1\n",
      "h : 1\n",
      "i : 1\n",
      "n : 1\n",
      "v : 1\n"
     ]
    }
   ],
   "source": [
    "def sort_and_count(text):\n",
    "    text = text.lower()\n",
    "    \n",
    "    sorted_str = ''.join(sorted(text))\n",
    "    print(\"Sorted String:\", sorted_str)\n",
    "\n",
    "    print(\"\\nCharacter Counts:\")\n",
    "    for char in sorted(set(sorted_str)):\n",
    "        print(char, \":\", sorted_str.count(char))\n",
    "\n",
    "\n",
    "\n",
    "user_input = input(\"Enter a string: \")\n",
    "sort_and_count(user_input)"
   ]
  },
  {
   "cell_type": "code",
   "execution_count": 9,
   "id": "1a2b0c76",
   "metadata": {},
   "outputs": [
    {
     "name": "stdout",
     "output_type": "stream",
     "text": [
      "it's a palindrome\n"
     ]
    }
   ],
   "source": [
    "#palindrome\n",
    "\n",
    "n=(input(\"enter the number:\"))\n",
    "l=len(n)\n",
    "\n",
    "flag=0\n",
    "for i in range (0,l):\n",
    "    if n[i]==n[l-1-i]:\n",
    "        flag=0\n",
    "    else:\n",
    "        flag=1\n",
    "        break\n",
    "\n",
    "if flag==0:\n",
    "    print(\"it's a palindrome\")\n",
    "\n",
    "else:\n",
    "    print(\"not a palindrome\")\n"
   ]
  },
  {
   "cell_type": "code",
   "execution_count": 10,
   "id": "13e7d599",
   "metadata": {},
   "outputs": [
    {
     "name": "stdout",
     "output_type": "stream",
     "text": [
      "The credit card number is invalid.\n"
     ]
    }
   ],
   "source": [
    "def luhn_check(card_number):\n",
    "    card_number = card_number.replace(\" \", \"\")  # remove spaces\n",
    "    if not card_number.isdigit():\n",
    "        return False\n",
    "    \n",
    "    total = 0\n",
    "    reverse_digits = card_number[::-1]\n",
    "    \n",
    "    for i, digit in enumerate(reverse_digits):\n",
    "        n = int(digit)\n",
    "        if i % 2 == 1:  # double every second digit from the right\n",
    "            n = n * 2\n",
    "            if n > 9:\n",
    "                n -= 9\n",
    "        total += n\n",
    "    \n",
    "    return total % 10 == 0\n",
    "\n",
    "# Example usage\n",
    "card = input(\"Enter credit card number: \")\n",
    "if luhn_check(card):\n",
    "    print(\"The credit card number is valid.\")\n",
    "else:\n",
    "    print(\"The credit card number is invalid.\")"
   ]
  },
  {
   "cell_type": "code",
   "execution_count": 11,
   "id": "b817f0ea",
   "metadata": {},
   "outputs": [
    {
     "name": "stdout",
     "output_type": "stream",
     "text": [
      "12321 is a hill number.\n"
     ]
    }
   ],
   "source": [
    "def is_hill_number(n):\n",
    "    num_str = str(n)  \n",
    "    if len(num_str) < 3:\n",
    "        return False  \n",
    "\n",
    "    i = 0\n",
    "\n",
    "    while i < len(num_str) - 1 and num_str[i] < num_str[i + 1]:\n",
    "        i += 1\n",
    "\n",
    "    if i == 0 or i == len(num_str) - 1:\n",
    "        return False\n",
    "    \n",
    "    while i < len(num_str) - 1 and num_str[i] > num_str[i + 1]:\n",
    "        i += 1\n",
    "\n",
    "    return i == len(num_str) - 1\n",
    "\n",
    "\n",
    "num = int(input(\"Enter a number: \"))\n",
    "if is_hill_number(num):\n",
    "    print(num, \"is a hill number.\")\n",
    "else:\n",
    "    print(num, \"is not a hill number.\")"
   ]
  },
  {
   "cell_type": "code",
   "execution_count": 12,
   "id": "b4b086f7",
   "metadata": {},
   "outputs": [
    {
     "name": "stdout",
     "output_type": "stream",
     "text": [
      "Grade 16+\n"
     ]
    }
   ],
   "source": [
    "def coleman_liau_index(text):\n",
    "    letters = 0\n",
    "    for char in text:\n",
    "        if ('a' <= char <= 'z') or ('A' <= char <= 'Z'):\n",
    "            letters += 1\n",
    "\n",
    "    words = len(text.split())\n",
    "    sentences = sum(text.count(c) for c in '.!?')\n",
    "\n",
    "    L = (letters / words) * 100\n",
    "    S = (sentences / words) * 100\n",
    "\n",
    "    index = 0.0588 * L - 0.296 * S - 15.8\n",
    "    return round(index)\n",
    "\n",
    "# Example usage\n",
    "text = input(\"Enter the text: \")\n",
    "grade = coleman_liau_index(text)\n",
    "\n",
    "if grade < 1:\n",
    "    print(\"Before Grade 1\")\n",
    "elif grade >= 16:\n",
    "    print(\"Grade 16+\")\n",
    "else:\n",
    "    print(\"Grade\", grade)"
   ]
  },
  {
   "cell_type": "code",
   "execution_count": 15,
   "id": "6bffce39",
   "metadata": {},
   "outputs": [
    {
     "name": "stdout",
     "output_type": "stream",
     "text": [
      "0 1 1 "
     ]
    }
   ],
   "source": [
    "def fibonacci_sequence(n):\n",
    "    a = 0\n",
    "    b = 1\n",
    "    count = 0\n",
    "    while count < n:\n",
    "        print(a, end=\" \")\n",
    "        c = a + b\n",
    "        a = b\n",
    "        b = c\n",
    "        count += 1\n",
    "\n",
    "num = int(input(\"Enter the number of Fibonacci values: \"))\n",
    "fibonacci_sequence(num)"
   ]
  },
  {
   "cell_type": "code",
   "execution_count": 18,
   "id": "a5567303",
   "metadata": {},
   "outputs": [
    {
     "name": "stdout",
     "output_type": "stream",
     "text": [
      "Divided parts: aabb, aabb, aabb\n"
     ]
    }
   ],
   "source": [
    "def divide_string(s, n):\n",
    "    if len(s) % n != 0:\n",
    "        print(\"Error: The string cannot be divided into equal parts of length\", n)\n",
    "        return\n",
    "    \n",
    "    parts = [s[i:i+n] for i in range(0, len(s), n)]\n",
    "    \n",
    "\n",
    "    if all(part == parts[0] for part in parts):\n",
    "        print(\"Divided parts:\", ', '.join(parts))\n",
    "    else:\n",
    "        print(\"Error: Parts are not identical.\")\n",
    "\n",
    "string = input(\"Enter the string: \")\n",
    "n = int(input(\"Enter the length of each part: \"))\n",
    "divide_string(string, n)"
   ]
  },
  {
   "cell_type": "code",
   "execution_count": 19,
   "id": "a58cc0de",
   "metadata": {},
   "outputs": [
    {
     "name": "stdout",
     "output_type": "stream",
     "text": [
      "the number of words are 2\n"
     ]
    }
   ],
   "source": [
    "word=input(\"enter the sentence:\")\n",
    "count=1\n",
    "for i in range (0, len(word)):\n",
    "    if word[i]==' ':\n",
    "        count=count+1\n",
    "print(\"the number of words are\", count)"
   ]
  },
  {
   "cell_type": "code",
   "execution_count": 21,
   "id": "e3a92bb7",
   "metadata": {},
   "outputs": [
    {
     "name": "stdout",
     "output_type": "stream",
     "text": [
      "The strings are not anagrams.\n"
     ]
    }
   ],
   "source": [
    "def is_anagram(str1, str2):\n",
    "    str1 = str1.replace(\" \", \"\").lower()\n",
    "    str2 = str2.replace(\" \", \"\").lower()\n",
    "    \n",
    "    if sorted(str1) == sorted(str2):\n",
    "        return True\n",
    "    else:\n",
    "        return False\n",
    "\n",
    "s1 = input(\"Enter first string: \")\n",
    "s2 = input(\"Enter second string: \")\n",
    "\n",
    "if is_anagram(s1, s2):\n",
    "    print(\"The strings are anagrams.\")\n",
    "else:\n",
    "    print(\"The strings are not anagrams.\")"
   ]
  }
 ],
 "metadata": {
  "kernelspec": {
   "display_name": "Python 3",
   "language": "python",
   "name": "python3"
  },
  "language_info": {
   "codemirror_mode": {
    "name": "ipython",
    "version": 3
   },
   "file_extension": ".py",
   "mimetype": "text/x-python",
   "name": "python",
   "nbconvert_exporter": "python",
   "pygments_lexer": "ipython3",
   "version": "3.13.6"
  }
 },
 "nbformat": 4,
 "nbformat_minor": 5
}
